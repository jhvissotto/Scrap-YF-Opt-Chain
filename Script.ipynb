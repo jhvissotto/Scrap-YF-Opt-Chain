{
 "cells": [
  {
   "cell_type": "code",
   "execution_count": 1,
   "metadata": {
    "execution": {
     "iopub.execute_input": "2025-01-21T01:25:36.985286Z",
     "iopub.status.busy": "2025-01-21T01:25:36.985090Z",
     "iopub.status.idle": "2025-01-21T01:25:37.410270Z",
     "shell.execute_reply": "2025-01-21T01:25:37.409626Z"
    }
   },
   "outputs": [],
   "source": [
    "import datetime as dt\n",
    "import holidays\n",
    "import requests as req\n",
    "import pandas as pd\n",
    "import yfinance as yf\n",
    "import sqlite3 as sqlite\n",
    "\n",
    "nan = float('nan')"
   ]
  },
  {
   "cell_type": "code",
   "execution_count": 2,
   "metadata": {
    "execution": {
     "iopub.execute_input": "2025-01-21T01:25:37.412504Z",
     "iopub.status.busy": "2025-01-21T01:25:37.412252Z",
     "iopub.status.idle": "2025-01-21T01:25:37.756702Z",
     "shell.execute_reply": "2025-01-21T01:25:37.756140Z"
    }
   },
   "outputs": [],
   "source": [
    "def GET_INDICE_COMPONENTS():\n",
    "    res  = req.get('https://www.slickcharts.com/sp500', headers={ 'User-Agent':'Mozilla/5.0 (X11; Linux x86_64) AppleWebKit/537.36 (KHTML, like Gecko) Chrome/108.0.0.0 Safari/537.36', 'X-Requested-With':'XMLHttpRequest' })\n",
    "    page = pd.read_html(res.content)\n",
    "    tbl  = page[0]\n",
    "    return tbl\n",
    "\n",
    "SNP_500 = GET_INDICE_COMPONENTS()['Symbol']"
   ]
  },
  {
   "cell_type": "code",
   "execution_count": 3,
   "metadata": {
    "execution": {
     "iopub.execute_input": "2025-01-21T01:25:37.758776Z",
     "iopub.status.busy": "2025-01-21T01:25:37.758593Z",
     "iopub.status.idle": "2025-01-21T01:25:37.809435Z",
     "shell.execute_reply": "2025-01-21T01:25:37.808989Z"
    }
   },
   "outputs": [],
   "source": [
    "ETFS        = ['SPY','DIA','QQQ','XLF','XLC','XLE','XLU','XLP','XLK','XLV','XLI','XLY','XLB','XOP','XBI','XRT','XHB','XME','XLRE','IWM','IYR','NOBL','AMLP','OIH','KRE','VNQ','ITB','KBE','IBB','SMH']\n",
    "TICKERS     = [*ETFS, *SNP_500.head(50)]\n",
    "TODAY       = dt.date.today()\n",
    "IS_HOLIDAY  = TODAY in holidays.US(years=TODAY.year)"
   ]
  },
  {
   "cell_type": "code",
   "execution_count": 4,
   "metadata": {
    "execution": {
     "iopub.execute_input": "2025-01-21T01:25:37.811236Z",
     "iopub.status.busy": "2025-01-21T01:25:37.811038Z",
     "iopub.status.idle": "2025-01-21T01:25:37.813568Z",
     "shell.execute_reply": "2025-01-21T01:25:37.813152Z"
    }
   },
   "outputs": [],
   "source": [
    "if IS_HOLIDAY: raise Exception('IS_HOLIDAY')"
   ]
  },
  {
   "cell_type": "code",
   "execution_count": 5,
   "metadata": {
    "execution": {
     "iopub.execute_input": "2025-01-21T01:25:37.815187Z",
     "iopub.status.busy": "2025-01-21T01:25:37.814995Z",
     "iopub.status.idle": "2025-01-21T01:27:26.553417Z",
     "shell.execute_reply": "2025-01-21T01:27:26.552830Z"
    }
   },
   "outputs": [
    {
     "name": "stdout",
     "output_type": "stream",
     "text": [
      "Too Many Requests. Rate limited. Try after a while.\n"
     ]
    },
    {
     "name": "stdout",
     "output_type": "stream",
     "text": [
      "Too Many Requests. Rate limited. Try after a while.\n"
     ]
    },
    {
     "name": "stdout",
     "output_type": "stream",
     "text": [
      "Too Many Requests. Rate limited. Try after a while.\n"
     ]
    },
    {
     "name": "stdout",
     "output_type": "stream",
     "text": [
      "Too Many Requests. Rate limited. Try after a while.\n"
     ]
    },
    {
     "name": "stdout",
     "output_type": "stream",
     "text": [
      "Too Many Requests. Rate limited. Try after a while.\n"
     ]
    },
    {
     "name": "stdout",
     "output_type": "stream",
     "text": [
      "Too Many Requests. Rate limited. Try after a while.\n"
     ]
    },
    {
     "name": "stdout",
     "output_type": "stream",
     "text": [
      "Too Many Requests. Rate limited. Try after a while.\n"
     ]
    }
   ],
   "source": [
    "def GET_YF_OPT_CHAINS(TICKERS):\n",
    "\n",
    "    # ================ Helpers ================ #\n",
    "    def _yf_Ticker(*a,**b):\n",
    "        try:    return yf.Ticker(*a,**b)\n",
    "        except: return None\n",
    "\n",
    "    def _yf_getPrice(Asset, alt=nan):\n",
    "        try:    return Asset.info.get('previousClose')\n",
    "        except: return alt\n",
    "\n",
    "    def _yf_getExps(Asset, alt=[]):\n",
    "        try:    return Asset.options\n",
    "        except: return alt\n",
    "    \n",
    "    \n",
    "    # ================ Main ================ #\n",
    "    Pipe = []\n",
    "    for TICKER in TICKERS:\n",
    "        Asset = _yf_Ticker(TICKER)\n",
    "        price = _yf_getPrice(Asset)\n",
    "\n",
    "        for EXP in _yf_getExps(Asset):\n",
    "            for OPT in ['calls','puts']:\n",
    "                try: \n",
    "                    chain = getattr(Asset.option_chain(EXP), OPT)\n",
    "                    Pipe.append(pd.DataFrame({\n",
    "                        'Date':     TODAY, \n",
    "                        'Ticker':   TICKER, \n",
    "                        'Price':    price, \n",
    "                        'Code':     chain['contractSymbol'],\n",
    "                        'Opt':      OPT[0].capitalize(), \n",
    "                        'Expiry':   EXP, \n",
    "                        'Strike':   chain['strike'], \n",
    "                        'Vol':      chain['volume'], \n",
    "                        'OI':       chain['openInterest'], \n",
    "                        'Ask':      chain['ask'], \n",
    "                        'Bid':      chain['bid'], \n",
    "                        'Last':     chain['lastPrice'], \n",
    "                    }))\n",
    "                except Exception as E: print(E)\n",
    "            pass\n",
    "        pass\n",
    "    pass\n",
    "    return pd.concat(Pipe, ignore_index=1)\n",
    "\n",
    "Chains = GET_YF_OPT_CHAINS(TICKERS)\n",
    "# Chains"
   ]
  },
  {
   "cell_type": "code",
   "execution_count": 6,
   "metadata": {
    "execution": {
     "iopub.execute_input": "2025-01-21T01:27:26.555664Z",
     "iopub.status.busy": "2025-01-21T01:27:26.555304Z",
     "iopub.status.idle": "2025-01-21T01:27:26.798399Z",
     "shell.execute_reply": "2025-01-21T01:27:26.797797Z"
    }
   },
   "outputs": [
    {
     "data": {
      "text/plain": [
       "68159"
      ]
     },
     "execution_count": 6,
     "metadata": {},
     "output_type": "execute_result"
    }
   ],
   "source": [
    "con = sqlite.connect('Filebase.db')\n",
    "Chains.to_sql('Chain', con, if_exists='append', index=0)"
   ]
  }
 ],
 "metadata": {
  "kernelspec": {
   "display_name": "base",
   "language": "python",
   "name": "python3"
  },
  "language_info": {
   "codemirror_mode": {
    "name": "ipython",
    "version": 3
   },
   "file_extension": ".py",
   "mimetype": "text/x-python",
   "name": "python",
   "nbconvert_exporter": "python",
   "pygments_lexer": "ipython3",
   "version": "3.12.8"
  }
 },
 "nbformat": 4,
 "nbformat_minor": 2
}
