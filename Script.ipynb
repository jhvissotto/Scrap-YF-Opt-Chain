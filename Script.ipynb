{
 "cells": [
  {
   "cell_type": "code",
   "execution_count": 1,
   "metadata": {
    "execution": {
     "iopub.execute_input": "2024-11-12T01:25:33.188648Z",
     "iopub.status.busy": "2024-11-12T01:25:33.188448Z",
     "iopub.status.idle": "2024-11-12T01:25:33.630110Z",
     "shell.execute_reply": "2024-11-12T01:25:33.629582Z"
    }
   },
   "outputs": [],
   "source": [
    "import datetime as dt\n",
    "import holidays\n",
    "import requests as req\n",
    "import pandas as pd\n",
    "import yfinance as yf\n",
    "import sqlite3 as sqlite"
   ]
  },
  {
   "cell_type": "code",
   "execution_count": 2,
   "metadata": {
    "execution": {
     "iopub.execute_input": "2024-11-12T01:25:33.632560Z",
     "iopub.status.busy": "2024-11-12T01:25:33.631945Z",
     "iopub.status.idle": "2024-11-12T01:25:34.108594Z",
     "shell.execute_reply": "2024-11-12T01:25:34.107982Z"
    }
   },
   "outputs": [],
   "source": [
    "def GET_INDICE_COMPONENTS():\n",
    "    res  = req.get('https://www.slickcharts.com/sp500', headers={ 'User-Agent':'Mozilla/5.0 (X11; Linux x86_64) AppleWebKit/537.36 (KHTML, like Gecko) Chrome/108.0.0.0 Safari/537.36', 'X-Requested-With':'XMLHttpRequest' })\n",
    "    page = pd.read_html(res.content)\n",
    "    tbl  = page[0]\n",
    "    return tbl\n",
    "\n",
    "SNP_500 = GET_INDICE_COMPONENTS()['Symbol']"
   ]
  },
  {
   "cell_type": "code",
   "execution_count": 3,
   "metadata": {
    "execution": {
     "iopub.execute_input": "2024-11-12T01:25:34.110912Z",
     "iopub.status.busy": "2024-11-12T01:25:34.110468Z",
     "iopub.status.idle": "2024-11-12T01:25:34.161685Z",
     "shell.execute_reply": "2024-11-12T01:25:34.161121Z"
    }
   },
   "outputs": [],
   "source": [
    "ETFS        = ['SPY','DIA','QQQ','XLF','XLC','XLE','XLU','XLP','XLK','XLV','XLI','XLY','XLB','XOP','XBI','XRT','XHB','XME','XLRE','IWM','IYR','NOBL','AMLP','OIH','KRE','VNQ','ITB','KBE','IBB','SMH']\n",
    "TICKERS     = [*ETFS, *SNP_500.head(50)]\n",
    "TODAY       = dt.date.today()\n",
    "IS_HOLIDAY  = TODAY in holidays.US(years=TODAY.year)"
   ]
  },
  {
   "cell_type": "code",
   "execution_count": 4,
   "metadata": {
    "execution": {
     "iopub.execute_input": "2024-11-12T01:25:34.163855Z",
     "iopub.status.busy": "2024-11-12T01:25:34.163498Z",
     "iopub.status.idle": "2024-11-12T01:25:34.166537Z",
     "shell.execute_reply": "2024-11-12T01:25:34.166048Z"
    }
   },
   "outputs": [],
   "source": [
    "if IS_HOLIDAY: raise Exception('IS_HOLIDAY')"
   ]
  },
  {
   "cell_type": "code",
   "execution_count": 5,
   "metadata": {
    "execution": {
     "iopub.execute_input": "2024-11-12T01:25:34.168265Z",
     "iopub.status.busy": "2024-11-12T01:25:34.167898Z",
     "iopub.status.idle": "2024-11-12T01:27:29.310457Z",
     "shell.execute_reply": "2024-11-12T01:27:29.309855Z"
    }
   },
   "outputs": [],
   "source": [
    "def GET_YF_OPT_CHAINS(TICKERS):\n",
    "    Pipe = []\n",
    "    for TICKER in TICKERS:\n",
    "        Asset = yf.Ticker(TICKER)\n",
    "        Price = Asset.info.get('previousClose')\n",
    "\n",
    "        for EXP in Asset.options:\n",
    "            for OPT in ['calls','puts']:\n",
    "                try: \n",
    "                    chain = getattr(Asset.option_chain(EXP), OPT)\n",
    "                    Pipe.append(pd.DataFrame({\n",
    "                        'Date':     TODAY, \n",
    "                        'Ticker':   TICKER, \n",
    "                        'Price':    Price, \n",
    "                        'Code':     chain['contractSymbol'],\n",
    "                        'Opt':      OPT[0].capitalize(), \n",
    "                        'Expiry':   EXP, \n",
    "                        'Strike':   chain['strike'], \n",
    "                        'Vol':      chain['volume'], \n",
    "                        'OI':       chain['openInterest'], \n",
    "                        'Ask':      chain['ask'], \n",
    "                        'Bid':      chain['bid'], \n",
    "                        'Last':     chain['lastPrice'], \n",
    "                    }))\n",
    "                except Exception as E: print(E)\n",
    "            pass\n",
    "        pass\n",
    "    pass\n",
    "    return pd.concat(Pipe, ignore_index=1)\n",
    "\n",
    "Chains = GET_YF_OPT_CHAINS(TICKERS)\n",
    "# Chains"
   ]
  },
  {
   "cell_type": "code",
   "execution_count": 6,
   "metadata": {
    "execution": {
     "iopub.execute_input": "2024-11-12T01:27:29.313021Z",
     "iopub.status.busy": "2024-11-12T01:27:29.312643Z",
     "iopub.status.idle": "2024-11-12T01:27:29.796694Z",
     "shell.execute_reply": "2024-11-12T01:27:29.796227Z"
    }
   },
   "outputs": [
    {
     "data": {
      "text/plain": [
       "118193"
      ]
     },
     "execution_count": 6,
     "metadata": {},
     "output_type": "execute_result"
    }
   ],
   "source": [
    "con = sqlite.connect('Filebase.db')\n",
    "Chains.to_sql('Chain', con, if_exists='append', index=0)"
   ]
  }
 ],
 "metadata": {
  "kernelspec": {
   "display_name": "base",
   "language": "python",
   "name": "python3"
  },
  "language_info": {
   "codemirror_mode": {
    "name": "ipython",
    "version": 3
   },
   "file_extension": ".py",
   "mimetype": "text/x-python",
   "name": "python",
   "nbconvert_exporter": "python",
   "pygments_lexer": "ipython3",
   "version": "3.12.7"
  }
 },
 "nbformat": 4,
 "nbformat_minor": 2
}
