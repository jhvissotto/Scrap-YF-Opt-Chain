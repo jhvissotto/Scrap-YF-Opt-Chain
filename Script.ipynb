{
 "cells": [
  {
   "cell_type": "code",
   "execution_count": null,
   "metadata": {
    "execution": {
     "iopub.execute_input": "2024-11-08T01:23:01.125630Z",
     "iopub.status.busy": "2024-11-08T01:23:01.125440Z",
     "iopub.status.idle": "2024-11-08T01:23:01.538753Z",
     "shell.execute_reply": "2024-11-08T01:23:01.538180Z"
    }
   },
   "outputs": [],
   "source": [
    "import datetime as dt\n",
    "import holidays\n",
    "import requests as req\n",
    "import pandas as pd\n",
    "import yfinance as yf\n",
    "import sqlite3 as sqlite"
   ]
  },
  {
   "cell_type": "code",
   "execution_count": 2,
   "metadata": {
    "execution": {
     "iopub.execute_input": "2024-11-08T01:23:01.540919Z",
     "iopub.status.busy": "2024-11-08T01:23:01.540664Z",
     "iopub.status.idle": "2024-11-08T01:23:01.933861Z",
     "shell.execute_reply": "2024-11-08T01:23:01.933299Z"
    }
   },
   "outputs": [],
   "source": [
    "def GET_INDICE_COMPONENTS():\n",
    "    res  = req.get('https://www.slickcharts.com/sp500', headers={ 'User-Agent':'Mozilla/5.0 (X11; Linux x86_64) AppleWebKit/537.36 (KHTML, like Gecko) Chrome/108.0.0.0 Safari/537.36', 'X-Requested-With':'XMLHttpRequest' })\n",
    "    page = pd.read_html(res.content)\n",
    "    tbl  = page[0]\n",
    "    return tbl\n",
    "\n",
    "SNP_500 = GET_INDICE_COMPONENTS()['Symbol']"
   ]
  },
  {
   "cell_type": "code",
   "execution_count": null,
   "metadata": {},
   "outputs": [],
   "source": [
    "TICKERS     = ['SPY','QQQ','IWM',*SNP_500.head(50)]\n",
    "TODAY       = dt.date.today()\n",
    "IS_HOLIDAY  = TODAY in holidays.US(years=TODAY.year)"
   ]
  },
  {
   "cell_type": "code",
   "execution_count": null,
   "metadata": {},
   "outputs": [],
   "source": [
    "if IS_HOLIDAY: raise Exception('IS_HOLIDAY')"
   ]
  },
  {
   "cell_type": "code",
   "execution_count": 4,
   "metadata": {
    "execution": {
     "iopub.execute_input": "2024-11-08T01:23:01.940384Z",
     "iopub.status.busy": "2024-11-08T01:23:01.940065Z",
     "iopub.status.idle": "2024-11-08T01:24:23.788155Z",
     "shell.execute_reply": "2024-11-08T01:24:23.787566Z"
    }
   },
   "outputs": [],
   "source": [
    "def GET_YF_OPT_CHAINS(TICKERS):\n",
    "    Pipe = []\n",
    "    for TICKER in TICKERS:\n",
    "        Asset = yf.Ticker(TICKER)\n",
    "        Price = Asset.info.get('previousClose')\n",
    "\n",
    "        for EXP in Asset.options:\n",
    "            for OPT in ['calls','puts']:\n",
    "                try: \n",
    "                    chain = getattr(Asset.option_chain(EXP), OPT)\n",
    "                    Pipe.append(pd.DataFrame({\n",
    "                        'Date':     TODAY, \n",
    "                        'Ticker':   TICKER, \n",
    "                        'Price':    Price, \n",
    "                        'Code':     chain['contractSymbol'],\n",
    "                        'Opt':      OPT[0].capitalize(), \n",
    "                        'Expiry':   EXP, \n",
    "                        'Strike':   chain['strike'], \n",
    "                        'Vol':      chain['volume'], \n",
    "                        'OI':       chain['openInterest'], \n",
    "                        'Ask':      chain['ask'], \n",
    "                        'Bid':      chain['bid'], \n",
    "                        'Last':     chain['lastPrice'], \n",
    "                    }))\n",
    "                except Exception as E: print(E)\n",
    "            pass\n",
    "        pass\n",
    "    pass\n",
    "    return pd.concat(Pipe, ignore_index=1)\n",
    "\n",
    "Chains = GET_YF_OPT_CHAINS(TICKERS)\n",
    "# Chains"
   ]
  },
  {
   "cell_type": "code",
   "execution_count": 5,
   "metadata": {
    "execution": {
     "iopub.execute_input": "2024-11-08T01:24:23.790475Z",
     "iopub.status.busy": "2024-11-08T01:24:23.790099Z",
     "iopub.status.idle": "2024-11-08T01:24:24.162699Z",
     "shell.execute_reply": "2024-11-08T01:24:24.162123Z"
    }
   },
   "outputs": [
    {
     "data": {
      "text/plain": [
       "91794"
      ]
     },
     "execution_count": 5,
     "metadata": {},
     "output_type": "execute_result"
    }
   ],
   "source": [
    "con = sqlite.connect('Filebase.db')\n",
    "Chains.to_sql('Chain', con, if_exists='append', index=0)"
   ]
  }
 ],
 "metadata": {
  "kernelspec": {
   "display_name": "base",
   "language": "python",
   "name": "python3"
  },
  "language_info": {
   "codemirror_mode": {
    "name": "ipython",
    "version": 3
   },
   "file_extension": ".py",
   "mimetype": "text/x-python",
   "name": "python",
   "nbconvert_exporter": "python",
   "pygments_lexer": "ipython3",
   "version": "3.11.10"
  }
 },
 "nbformat": 4,
 "nbformat_minor": 2
}
